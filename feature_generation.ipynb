{
 "cells": [
  {
   "cell_type": "code",
   "execution_count": 1,
   "metadata": {
    "ExecuteTime": {
     "end_time": "2017-03-03T15:44:28.183329",
     "start_time": "2017-03-03T15:44:25.269124"
    },
    "collapsed": false
   },
   "outputs": [],
   "source": [
    "import pandas as pd\n",
    "import numpy as np\n",
    "from sklearn import svm\n",
    "from feature_extractor import featuresFromDataFrame\n",
    "from tools import random_sample\n",
    "import igraph\n",
    "\n",
    "\n",
    "train_df = pd.read_csv(\"training_set.txt\", sep=\" \",header=None)\n",
    "train_df.columns = [\"source\",\"target\",\"label\"]\n",
    "train_df = random_sample(train_df)\n",
    "\n",
    "test_df = pd.read_csv(\"testing_set.txt\", sep=\" \",header=None)\n",
    "test_df.columns = [\"source\",\"target\"]\n",
    "#test_df = random_sample(test_df,prop = 1)\n",
    "\n",
    "node_information_df = pd.read_csv(\"node_information.csv\", sep=\",\", header=None)\n",
    "node_information_df.columns = [\"ID\",\"year\",\"title\",\"authors\",\"journalName\",\"abstract\"]\n",
    "node_information_df = node_information_df.reset_index().set_index(\"ID\")\n",
    "node_information_df[\"authors\"].fillna(\"\", inplace=True)"
   ]
  },
  {
   "cell_type": "code",
   "execution_count": 2,
   "metadata": {
    "ExecuteTime": {
     "end_time": "2017-03-03T15:42:49.365317",
     "start_time": "2017-03-03T15:42:49.237133"
    },
    "collapsed": false
   },
   "outputs": [
    {
     "data": {
      "text/plain": [
       "(30775, 3)"
      ]
     },
     "execution_count": 2,
     "metadata": {},
     "output_type": "execute_result"
    },
    {
     "data": {
      "text/html": [
       "<div>\n",
       "<table border=\"1\" class=\"dataframe\">\n",
       "  <thead>\n",
       "    <tr style=\"text-align: right;\">\n",
       "      <th></th>\n",
       "      <th>source</th>\n",
       "      <th>target</th>\n",
       "      <th>label</th>\n",
       "    </tr>\n",
       "  </thead>\n",
       "  <tbody>\n",
       "    <tr>\n",
       "      <th>268143</th>\n",
       "      <td>9509029</td>\n",
       "      <td>9211013</td>\n",
       "      <td>0</td>\n",
       "    </tr>\n",
       "    <tr>\n",
       "      <th>145983</th>\n",
       "      <td>9912263</td>\n",
       "      <td>9510060</td>\n",
       "      <td>1</td>\n",
       "    </tr>\n",
       "    <tr>\n",
       "      <th>363757</th>\n",
       "      <td>202018</td>\n",
       "      <td>9804168</td>\n",
       "      <td>0</td>\n",
       "    </tr>\n",
       "    <tr>\n",
       "      <th>138062</th>\n",
       "      <td>9906230</td>\n",
       "      <td>9908026</td>\n",
       "      <td>0</td>\n",
       "    </tr>\n",
       "    <tr>\n",
       "      <th>583119</th>\n",
       "      <td>9710154</td>\n",
       "      <td>9611061</td>\n",
       "      <td>0</td>\n",
       "    </tr>\n",
       "  </tbody>\n",
       "</table>\n",
       "</div>"
      ],
      "text/plain": [
       "         source   target  label\n",
       "268143  9509029  9211013      0\n",
       "145983  9912263  9510060      1\n",
       "363757   202018  9804168      0\n",
       "138062  9906230  9908026      0\n",
       "583119  9710154  9611061      0"
      ]
     },
     "execution_count": 2,
     "metadata": {},
     "output_type": "execute_result"
    },
    {
     "data": {
      "text/html": [
       "<div>\n",
       "<table border=\"1\" class=\"dataframe\">\n",
       "  <thead>\n",
       "    <tr style=\"text-align: right;\">\n",
       "      <th></th>\n",
       "      <th>source</th>\n",
       "      <th>target</th>\n",
       "    </tr>\n",
       "  </thead>\n",
       "  <tbody>\n",
       "    <tr>\n",
       "      <th>0</th>\n",
       "      <td>9807076</td>\n",
       "      <td>9807139</td>\n",
       "    </tr>\n",
       "    <tr>\n",
       "      <th>1</th>\n",
       "      <td>109162</td>\n",
       "      <td>1182</td>\n",
       "    </tr>\n",
       "    <tr>\n",
       "      <th>2</th>\n",
       "      <td>9702187</td>\n",
       "      <td>9510135</td>\n",
       "    </tr>\n",
       "    <tr>\n",
       "      <th>3</th>\n",
       "      <td>111048</td>\n",
       "      <td>110115</td>\n",
       "    </tr>\n",
       "    <tr>\n",
       "      <th>4</th>\n",
       "      <td>9910176</td>\n",
       "      <td>9410073</td>\n",
       "    </tr>\n",
       "  </tbody>\n",
       "</table>\n",
       "</div>"
      ],
      "text/plain": [
       "    source   target\n",
       "0  9807076  9807139\n",
       "1   109162     1182\n",
       "2  9702187  9510135\n",
       "3   111048   110115\n",
       "4  9910176  9410073"
      ]
     },
     "execution_count": 2,
     "metadata": {},
     "output_type": "execute_result"
    },
    {
     "data": {
      "text/html": [
       "<div>\n",
       "<table border=\"1\" class=\"dataframe\">\n",
       "  <thead>\n",
       "    <tr style=\"text-align: right;\">\n",
       "      <th></th>\n",
       "      <th>index</th>\n",
       "      <th>year</th>\n",
       "      <th>title</th>\n",
       "      <th>authors</th>\n",
       "      <th>journalName</th>\n",
       "      <th>abstract</th>\n",
       "    </tr>\n",
       "    <tr>\n",
       "      <th>ID</th>\n",
       "      <th></th>\n",
       "      <th></th>\n",
       "      <th></th>\n",
       "      <th></th>\n",
       "      <th></th>\n",
       "      <th></th>\n",
       "    </tr>\n",
       "  </thead>\n",
       "  <tbody>\n",
       "    <tr>\n",
       "      <th>1001</th>\n",
       "      <td>0</td>\n",
       "      <td>2000</td>\n",
       "      <td>compactification geometry and duality</td>\n",
       "      <td>Paul S. Aspinwall</td>\n",
       "      <td>NaN</td>\n",
       "      <td>these are notes based on lectures given at tas...</td>\n",
       "    </tr>\n",
       "    <tr>\n",
       "      <th>1002</th>\n",
       "      <td>1</td>\n",
       "      <td>2000</td>\n",
       "      <td>domain walls and massive gauged supergravity p...</td>\n",
       "      <td>M. Cvetic, H. Lu, C.N. Pope</td>\n",
       "      <td>Class.Quant.Grav.</td>\n",
       "      <td>we point out that massive gauged supergravity ...</td>\n",
       "    </tr>\n",
       "    <tr>\n",
       "      <th>1003</th>\n",
       "      <td>2</td>\n",
       "      <td>2000</td>\n",
       "      <td>comment on metric fluctuations in brane worlds</td>\n",
       "      <td>Y.S. Myung, Gungwon Kang</td>\n",
       "      <td>NaN</td>\n",
       "      <td>recently ivanov and volovich hep-th 9912242 cl...</td>\n",
       "    </tr>\n",
       "    <tr>\n",
       "      <th>1004</th>\n",
       "      <td>3</td>\n",
       "      <td>2000</td>\n",
       "      <td>moving mirrors and thermodynamic paradoxes</td>\n",
       "      <td>Adam D. Helfer</td>\n",
       "      <td>Phys.Rev.</td>\n",
       "      <td>quantum fields responding to moving mirrors ha...</td>\n",
       "    </tr>\n",
       "    <tr>\n",
       "      <th>1005</th>\n",
       "      <td>4</td>\n",
       "      <td>2000</td>\n",
       "      <td>bundles of chiral blocks and boundary conditio...</td>\n",
       "      <td>J. Fuchs, C. Schweigert</td>\n",
       "      <td>NaN</td>\n",
       "      <td>proceedings of lie iii clausthal july 1999 var...</td>\n",
       "    </tr>\n",
       "  </tbody>\n",
       "</table>\n",
       "</div>"
      ],
      "text/plain": [
       "      index  year                                              title  \\\n",
       "ID                                                                     \n",
       "1001      0  2000              compactification geometry and duality   \n",
       "1002      1  2000  domain walls and massive gauged supergravity p...   \n",
       "1003      2  2000     comment on metric fluctuations in brane worlds   \n",
       "1004      3  2000         moving mirrors and thermodynamic paradoxes   \n",
       "1005      4  2000  bundles of chiral blocks and boundary conditio...   \n",
       "\n",
       "                          authors        journalName  \\\n",
       "ID                                                     \n",
       "1001            Paul S. Aspinwall                NaN   \n",
       "1002  M. Cvetic, H. Lu, C.N. Pope  Class.Quant.Grav.   \n",
       "1003     Y.S. Myung, Gungwon Kang                NaN   \n",
       "1004               Adam D. Helfer          Phys.Rev.   \n",
       "1005      J. Fuchs, C. Schweigert                NaN   \n",
       "\n",
       "                                               abstract  \n",
       "ID                                                       \n",
       "1001  these are notes based on lectures given at tas...  \n",
       "1002  we point out that massive gauged supergravity ...  \n",
       "1003  recently ivanov and volovich hep-th 9912242 cl...  \n",
       "1004  quantum fields responding to moving mirrors ha...  \n",
       "1005  proceedings of lie iii clausthal july 1999 var...  "
      ]
     },
     "execution_count": 2,
     "metadata": {},
     "output_type": "execute_result"
    }
   ],
   "source": [
    "train_df.shape\n",
    "train_df.head()\n",
    "test_df.head()\n",
    "node_information_df.head()"
   ]
  },
  {
   "cell_type": "code",
   "execution_count": 6,
   "metadata": {
    "ExecuteTime": {
     "end_time": "2017-03-03T15:56:12.363076",
     "start_time": "2017-03-03T15:55:03.382127"
    },
    "collapsed": false
   },
   "outputs": [],
   "source": [
    "training_features = featuresFromDataFrame(train_df,node_information_df)\n",
    "testing_features = featuresFromDataFrame(test_df,node_information_df)\n",
    "labels = train_df[\"label\"].values"
   ]
  },
  {
   "cell_type": "code",
   "execution_count": 2,
   "metadata": {
    "ExecuteTime": {
     "end_time": "2017-03-03T15:44:33.861383",
     "start_time": "2017-03-03T15:44:30.928747"
    },
    "collapsed": true
   },
   "outputs": [],
   "source": [
    "from tools import build_graph\n",
    "g = build_graph()"
   ]
  },
  {
   "cell_type": "code",
   "execution_count": 3,
   "metadata": {
    "ExecuteTime": {
     "end_time": "2017-03-03T15:54:15.306799",
     "start_time": "2017-03-03T15:44:37.034781"
    },
    "collapsed": false
   },
   "outputs": [],
   "source": [
    "from feature_extractor import InOutDegree\n",
    "train_df = InOutDegree(train_df, g)\n",
    "test_df = InOutDegree(test_df, g)"
   ]
  },
  {
   "cell_type": "code",
   "execution_count": 7,
   "metadata": {
    "ExecuteTime": {
     "end_time": "2017-03-03T15:56:12.525603",
     "start_time": "2017-03-03T15:56:12.367243"
    },
    "collapsed": false
   },
   "outputs": [],
   "source": [
    "train_df.to_csv('tmp/train_df')\n",
    "test_df.to_csv('tmp/test_df')"
   ]
  },
  {
   "cell_type": "code",
   "execution_count": 12,
   "metadata": {
    "ExecuteTime": {
     "end_time": "2017-03-03T15:56:55.949423",
     "start_time": "2017-03-03T15:56:55.936622"
    },
    "collapsed": false
   },
   "outputs": [],
   "source": [
    "training_features = np.concatenate((training_features, train_df[['target_in_degree', 'target_out_degree']].values), \n",
    "                                   axis=1)\n",
    "testing_features = np.concatenate((testing_features, test_df[['target_in_degree', 'target_out_degree']].values), \n",
    "                                   axis=1)"
   ]
  },
  {
   "cell_type": "code",
   "execution_count": 19,
   "metadata": {
    "ExecuteTime": {
     "end_time": "2017-03-03T15:57:47.507041",
     "start_time": "2017-03-03T15:57:43.815829"
    },
    "collapsed": false
   },
   "outputs": [
    {
     "data": {
      "text/plain": [
       "LinearSVC(C=1.0, class_weight=None, dual=True, fit_intercept=True,\n",
       "     intercept_scaling=1, loss='squared_hinge', max_iter=1000,\n",
       "     multi_class='ovr', penalty='l2', random_state=None, tol=0.0001,\n",
       "     verbose=0)"
      ]
     },
     "execution_count": 19,
     "metadata": {},
     "output_type": "execute_result"
    }
   ],
   "source": [
    "classifier = svm.LinearSVC()\n",
    "classifier.fit(training_features, labels)\n",
    "labels_pred = classifier.predict(testing_features)\n",
    "\n",
    "prediction_df = pd.DataFrame(columns=[\"id\",\"category\"], dtype=int)\n",
    "prediction_df[\"id\"] = range(len(labels_pred))\n",
    "prediction_df[\"category\"] = labels_pred\n",
    "\n",
    "prediction_df.to_csv(\"submissions/improved_predictionsinoutdegree.csv\", index=None)"
   ]
  }
 ],
 "metadata": {
  "kernelspec": {
   "display_name": "Python 2",
   "language": "python",
   "name": "python2"
  },
  "language_info": {
   "codemirror_mode": {
    "name": "ipython",
    "version": 2
   },
   "file_extension": ".py",
   "mimetype": "text/x-python",
   "name": "python",
   "nbconvert_exporter": "python",
   "pygments_lexer": "ipython2",
   "version": "2.7.12"
  },
  "notify_time": "0"
 },
 "nbformat": 4,
 "nbformat_minor": 2
}
